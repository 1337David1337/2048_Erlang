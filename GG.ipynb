{
  "nbformat": 4,
  "nbformat_minor": 0,
  "metadata": {
    "colab": {
      "provenance": [],
      "gpuType": "T4",
      "authorship_tag": "ABX9TyM2bMoUaC6cgSjozGspnYsY",
      "include_colab_link": true
    },
    "kernelspec": {
      "name": "python3",
      "display_name": "Python 3"
    },
    "language_info": {
      "name": "python"
    },
    "accelerator": "GPU"
  },
  "cells": [
    {
      "cell_type": "markdown",
      "metadata": {
        "id": "view-in-github",
        "colab_type": "text"
      },
      "source": [
        "<a href=\"https://colab.research.google.com/github/1337David1337/2048_Erlang/blob/master/GG.ipynb\" target=\"_parent\"><img src=\"https://colab.research.google.com/assets/colab-badge.svg\" alt=\"Open In Colab\"/></a>"
      ]
    },
    {
      "cell_type": "code",
      "execution_count": 3,
      "metadata": {
        "id": "dpLv3fo3aeHI"
      },
      "outputs": [],
      "source": [
        "from keras.datasets import mnist\n",
        "from matplotlib import pyplot"
      ]
    },
    {
      "cell_type": "code",
      "source": [
        "(train_X, train_y), (test_X, test_y) = mnist.load_data()"
      ],
      "metadata": {
        "colab": {
          "base_uri": "https://localhost:8080/"
        },
        "id": "bp-UXZnegLB3",
        "outputId": "ff4e13c6-b968-4335-9f88-7c42999d7626"
      },
      "execution_count": 4,
      "outputs": [
        {
          "output_type": "stream",
          "name": "stdout",
          "text": [
            "Downloading data from https://storage.googleapis.com/tensorflow/tf-keras-datasets/mnist.npz\n",
            "11490434/11490434 [==============================] - 1s 0us/step\n"
          ]
        }
      ]
    },
    {
      "cell_type": "code",
      "source": [
        "print('X_train: ' + str(train_X.shape))\n",
        "print('Y_train: ' + str(train_y.shape))\n",
        "print('X_test:  '  + str(test_X.shape))\n",
        "print('Y_test:  '  + str(test_y.shape))"
      ],
      "metadata": {
        "colab": {
          "base_uri": "https://localhost:8080/"
        },
        "id": "K2TXKNACgNT-",
        "outputId": "f6c70502-2f95-4667-d4ee-7df1c18c6ac3"
      },
      "execution_count": 5,
      "outputs": [
        {
          "output_type": "stream",
          "name": "stdout",
          "text": [
            "X_train: (60000, 28, 28)\n",
            "Y_train: (60000,)\n",
            "X_test:  (10000, 28, 28)\n",
            "Y_test:  (10000,)\n"
          ]
        }
      ]
    },
    {
      "cell_type": "code",
      "source": [
        "for i in range(9):  \n",
        "  pyplot.subplot(330 + 1 + i)\n",
        "  pyplot.imshow(train_X[i], cmap=pyplot.get_cmap('gray'))\n",
        "  pyplot.show()"
      ],
      "metadata": {
        "colab": {
          "base_uri": "https://localhost:8080/",
          "height": 1000
        },
        "id": "UiCdfgfCgVYH",
        "outputId": "1050bdda-c866-4d13-c29f-45b2f9c9c5fd"
      },
      "execution_count": 6,
      "outputs": [
        {
          "output_type": "display_data",
          "data": {
            "text/plain": [
              "<Figure size 640x480 with 1 Axes>"
            ],
            "image/png": "[encoded data removed]"
          },
          "metadata": {}
        },
        {
          "output_type": "display_data",
          "data": {
            "text/plain": [
              "<Figure size 640x480 with 1 Axes>"
            ],
            "image/png": "[encoded data removed]"
          },
          "metadata": {}
        },
        {
          "output_type": "display_data",
          "data": {
            "text/plain": [
              "<Figure size 640x480 with 1 Axes>"
            ],
            "image/png": "[encoded data removed]"
          },
          "metadata": {}
        },
        {
          "output_type": "display_data",
          "data": {
            "text/plain": [
              "<Figure size 640x480 with 1 Axes>"
            ],
            "image/png": "[encoded data removed]"
          },
          "metadata": {}
        },
        {
          "output_type": "display_data",
          "data": {
            "text/plain": [
              "<Figure size 640x480 with 1 Axes>"
            ],
            "image/png": "[encoded data removed]"
          },
          "metadata": {}
        },
        {
          "output_type": "display_data",
          "data": {
            "text/plain": [
              "<Figure size 640x480 with 1 Axes>"
            ],
            "image/png": "[encoded data removed]"
          },
          "metadata": {}
        },
        {
          "output_type": "display_data",
          "data": {
            "text/plain": [
              "<Figure size 640x480 with 1 Axes>"
            ],
            "image/png": "[encoded data removed]"
          },
          "metadata": {}
        },
        {
          "output_type": "display_data",
          "data": {
            "text/plain": [
              "<Figure size 640x480 with 1 Axes>"
            ],
            "image/png": "[encoded data removed]"
          },
          "metadata": {}
        },
        {
          "output_type": "display_data",
          "data": {
            "text/plain": [
              "<Figure size 640x480 with 1 Axes>"
            ],
            "image/png": "[encoded data removed]"
          },
          "metadata": {}
        }
      ]
    },
    {
      "cell_type": "code",
      "source": [
        "Var0 = test_X[0:1]\n",
        "print(Var0)\n",
        "\n",
        "Var12 = test_X[11:12]\n",
        "print(Var12)\n",
        "\n",
        "Var146 = test_X[145:146]\n",
        "print(Var146)\n",
        "\n",
        "\n",
        "\n",
        "from matplotlib import pyplot as plt\n",
        "import numpy as np\n",
        "\n",
        "def gen_image(arr):\n",
        "    two_d = (np.reshape(arr, (28, 28)) * 255).astype(np.uint8)\n",
        "    plt.imshow(two_d, interpolation='nearest')\n",
        "    return plt\n",
        "\n",
        "\n",
        "\n",
        "gen_image(test_X[0]).show()\n",
        "\n",
        "gen_image(test_X[11]).show()\n",
        "gen_image(test_X[145]).show()\n"
      ],
      "metadata": {
        "colab": {
          "base_uri": "https://localhost:8080/",
          "height": 1000
        },
        "id": "Ddf4D6yKg0PQ",
        "outputId": "21751a00-b54b-49ca-a03d-26e58fbb581d"
      },
      "execution_count": 18,
      "outputs": [
        {
          "output_type": "stream",
          "name": "stdout",
          "text": [
            "[[[  0   0   0   0   0   0   0   0   0   0   0   0   0   0   0   0   0\n",
            "     0   0   0   0   0   0   0   0   0   0   0]\n",
            "  [  0   0   0   0   0   0   0   0   0   0   0   0   0   0   0   0   0\n",
            "     0   0   0   0   0   0   0   0   0   0   0]\n",
            "  [  0   0   0   0   0   0   0   0   0   0   0   0   0   0   0   0   0\n",
            "     0   0   0   0   0   0   0   0   0   0   0]\n",
            "  [  0   0   0   0   0   0   0   0   0   0   0   0   0   0   0   0   0\n",
            "     0   0   0   0   0   0   0   0   0   0   0]\n",
            "  [  0   0   0   0   0   0   0   0   0   0   0   0   0   0   0   0   0\n",
            "     0   0   0   0   0   0   0   0   0   0   0]\n",
            "  [  0   0   0   0   0   0   0   0   0   0   0   0   0   0   0   0   0\n",
            "     0   0   0   0   0   0   0   0   0   0   0]\n",
            "  [  0   0   0   0   0   0   0   0   0   0   0   0   0   0   0   0   0\n",
            "     0   0   0   0   0   0   0   0   0   0   0]\n",
            "  [  0   0   0   0   0   0  84 185 159 151  60  36   0   0   0   0   0\n",
            "     0   0   0   0   0   0   0   0   0   0   0]\n",
            "  [  0   0   0   0   0   0 222 254 254 254 254 241 198 198 198 198 198\n",
            "   198 198 198 170  52   0   0   0   0   0   0]\n",
            "  [  0   0   0   0   0   0  67 114  72 114 163 227 254 225 254 254 254\n",
            "   250 229 254 254 140   0   0   0   0   0   0]\n",
            "  [  0   0   0   0   0   0   0   0   0   0   0  17  66  14  67  67  67\n",
            "    59  21 236 254 106   0   0   0   0   0   0]\n",
            "  [  0   0   0   0   0   0   0   0   0   0   0   0   0   0   0   0   0\n",
            "     0  83 253 209  18   0   0   0   0   0   0]\n",
            "  [  0   0   0   0   0   0   0   0   0   0   0   0   0   0   0   0   0\n",
            "    22 233 255  83   0   0   0   0   0   0   0]\n",
            "  [  0   0   0   0   0   0   0   0   0   0   0   0   0   0   0   0   0\n",
            "   129 254 238  44   0   0   0   0   0   0   0]\n",
            "  [  0   0   0   0   0   0   0   0   0   0   0   0   0   0   0   0  59\n",
            "   249 254  62   0   0   0   0   0   0   0   0]\n",
            "  [  0   0   0   0   0   0   0   0   0   0   0   0   0   0   0   0 133\n",
            "   254 187   5   0   0   0   0   0   0   0   0]\n",
            "  [  0   0   0   0   0   0   0   0   0   0   0   0   0   0   0   9 205\n",
            "   248  58   0   0   0   0   0   0   0   0   0]\n",
            "  [  0   0   0   0   0   0   0   0   0   0   0   0   0   0   0 126 254\n",
            "   182   0   0   0   0   0   0   0   0   0   0]\n",
            "  [  0   0   0   0   0   0   0   0   0   0   0   0   0   0  75 251 240\n",
            "    57   0   0   0   0   0   0   0   0   0   0]\n",
            "  [  0   0   0   0   0   0   0   0   0   0   0   0   0  19 221 254 166\n",
            "     0   0   0   0   0   0   0   0   0   0   0]\n",
            "  [  0   0   0   0   0   0   0   0   0   0   0   0   3 203 254 219  35\n",
            "     0   0   0   0   0   0   0   0   0   0   0]\n",
            "  [  0   0   0   0   0   0   0   0   0   0   0   0  38 254 254  77   0\n",
            "     0   0   0   0   0   0   0   0   0   0   0]\n",
            "  [  0   0   0   0   0   0   0   0   0   0   0  31 224 254 115   1   0\n",
            "     0   0   0   0   0   0   0   0   0   0   0]\n",
            "  [  0   0   0   0   0   0   0   0   0   0   0 133 254 254  52   0   0\n",
            "     0   0   0   0   0   0   0   0   0   0   0]\n",
            "  [  0   0   0   0   0   0   0   0   0   0  61 242 254 254  52   0   0\n",
            "     0   0   0   0   0   0   0   0   0   0   0]\n",
            "  [  0   0   0   0   0   0   0   0   0   0 121 254 254 219  40   0   0\n",
            "     0   0   0   0   0   0   0   0   0   0   0]\n",
            "  [  0   0   0   0   0   0   0   0   0   0 121 254 207  18   0   0   0\n",
            "     0   0   0   0   0   0   0   0   0   0   0]\n",
            "  [  0   0   0   0   0   0   0   0   0   0   0   0   0   0   0   0   0\n",
            "     0   0   0   0   0   0   0   0   0   0   0]]]\n",
            "[[[  0   0   0   0   0   0   0   0   0   0   0   0   0   0   0   0   0\n",
            "     0   0   0   0   0   0   0   0   0   0   0]\n",
            "  [  0   0   0   0   0   0   0   0   0   0   0   0   0   0   0   0   0\n",
            "     0   0   0   0   0   0   0   0   0   0   0]\n",
            "  [  0   0   0   0   0   0   0   0   0   0   0   0   0   0   0   0   0\n",
            "     0   0   0   0   0   0   0   0   0   0   0]\n",
            "  [  0   0   0   0   0   0   0   0   0   0   7 204 253 176   0   0   0\n",
            "     0   0   0   0   0   0   0   0   0   0   0]\n",
            "  [  0   0   0   0   0   0   0   0   0   7 150 252 252 125   0   0   0\n",
            "     0   0   0   0   0   0   0   0   0   0   0]\n",
            "  [  0   0   0   0   0   0   0   0   0 117 252 186  56   0   0   0   0\n",
            "     0   0   0   0   0   0   0   0   0   0   0]\n",
            "  [  0   0   0   0   0   0   0   0   0 141 252 118   0   0   0   0   0\n",
            "     0   0   0   0   0   0   0   0   0   0   0]\n",
            "  [  0   0   0   0   0   0   0   0   0 154 247  50   0   0   0   0   0\n",
            "     0   0   0   0   0   0   0   0   0   0   0]\n",
            "  [  0   0   0   0   0   0   0   0  26 253 196   0   0   0   0   0   0\n",
            "     0   0   0   0   0   0   0   0   0   0   0]\n",
            "  [  0   0   0   0   0   0   0   0 150 253 196   0   0   0   0   0   0\n",
            "     0  57  85  85  38   0   0   0   0   0   0]\n",
            "  [  0   0   0   0   0   0   0   0 225 253  96   0   0   0   0   0 151\n",
            "   226 243 252 252 238 125   0   0   0   0   0]\n",
            "  [  0   0   0   0   0   0   0  10 229 226   0   0   0   4  54 229 253\n",
            "   255 234 175 225 255 228  31   0   0   0   0]\n",
            "  [  0   0   0   0   0   0   0 110 252 150   0   0  26 128 252 252 227\n",
            "   134  28   0   0 178 252  56   0   0   0   0]\n",
            "  [  0   0   0   0   0   0   0 159 252 113   0   0 150 253 252 186  43\n",
            "     0   0   0   0 141 252  56   0   0   0   0]\n",
            "  [  0   0   0   0   0   0   0 185 252 113   0  38 237 253 151   6   0\n",
            "     0   0   0   0 141 202   6   0   0   0   0]\n",
            "  [  0   0   0   0   0   0   0 198 253 114   0 147 253 163   0   0   0\n",
            "     0   0   0   0 154 197   0   0   0   0   0]\n",
            "  [  0   0   0   0   0   0   0 197 252 113   0 172 252 188   0   0   0\n",
            "     0   0   0  26 253 171   0   0   0   0   0]\n",
            "  [  0   0   0   0   0   0   0 197 252 113   0  19 231 247 122  19   0\n",
            "     0   0   0 200 244  56   0   0   0   0   0]\n",
            "  [  0   0   0   0   0   0  26 222 252 113   0   0  25 203 252 193  13\n",
            "     0  76 200 249 125   0   0   0   0   0   0]\n",
            "  [  0   0   0   0   0   0   0 185 253 179  10   0   0   0  76  35  29\n",
            "   154 253 244 125   0   0   0   0   0   0   0]\n",
            "  [  0   0   0   0   0   0   0  28 209 253 196  82  57  57 131 197 252\n",
            "   253 214  81   0   0   0   0   0   0   0   0]\n",
            "  [  0   0   0   0   0   0   0   0  25 216 252 252 252 253 252 252 252\n",
            "   156  19   0   0   0   0   0   0   0   0   0]\n",
            "  [  0   0   0   0   0   0   0   0   0  16 103 139 240 140 139 139  40\n",
            "     0   0   0   0   0   0   0   0   0   0   0]\n",
            "  [  0   0   0   0   0   0   0   0   0   0   0   0   0   0   0   0   0\n",
            "     0   0   0   0   0   0   0   0   0   0   0]\n",
            "  [  0   0   0   0   0   0   0   0   0   0   0   0   0   0   0   0   0\n",
            "     0   0   0   0   0   0   0   0   0   0   0]\n",
            "  [  0   0   0   0   0   0   0   0   0   0   0   0   0   0   0   0   0\n",
            "     0   0   0   0   0   0   0   0   0   0   0]\n",
            "  [  0   0   0   0   0   0   0   0   0   0   0   0   0   0   0   0   0\n",
            "     0   0   0   0   0   0   0   0   0   0   0]\n",
            "  [  0   0   0   0   0   0   0   0   0   0   0   0   0   0   0   0   0\n",
            "     0   0   0   0   0   0   0   0   0   0   0]]]\n",
            "[[[  0   0   0   0   0   0   0   0   0   0   0   0   0   0   0   0   0\n",
            "     0   0   0   0   0   0   0   0   0   0   0]\n",
            "  [  0   0   0   0   0   0   0   0   0   0   0   0   0   0   0   0   0\n",
            "     0   0   0   0   0   0   0   0   0   0   0]\n",
            "  [  0   0   0   0   0   0   0   0   0   0   0   0   0   0   0   0   0\n",
            "     0   0   0   0   0   0   0   0   0   0   0]\n",
            "  [  0   0   0   0   0   0   0   0   0   0   0   0   0   0   0   0   0\n",
            "     0   0   0   0   0   0   0   0   0   0   0]\n",
            "  [  0   0   0   0   0   0   0   0   0   0   0   0 100 254   0   0   0\n",
            "     0   0   0   0   0   0   0   0   0   0   0]\n",
            "  [  0   0   0   0   0   0   0   0   0   0   0   0 212 253   0   0   0\n",
            "     0   0   0   0   0   0   0   0   0   0   0]\n",
            "  [  0   0   0   0   0   0   0   0   0   0   0   0 166 253   0   0   0\n",
            "     0   0   0   0   0   0   0   0   0   0   0]\n",
            "  [  0   0   0   0   0   0   0   0   0   0   0  73 251 253  16   0   0\n",
            "     0   0   0   0   0   0   0   0   0   0   0]\n",
            "  [  0   0   0   0   0   0   0   0   0   0   0  48 245 253  98   0   0\n",
            "     0   0   0   0   0   0   0   0   0   0   0]\n",
            "  [  0   0   0   0   0   0   0   0   0   0   0   0 235 254 196   0   0\n",
            "     0   0   0   0   0   0   0   0   0   0   0]\n",
            "  [  0   0   0   0   0   0   0   0   0   0   0   0 151 253 222  18   0\n",
            "     0   0   0   0   0   0   0   0   0   0   0]\n",
            "  [  0   0   0   0   0   0   0   0   0   0   0   0  69 253 235  27   0\n",
            "     0   0   0   0   0   0   0   0   0   0   0]\n",
            "  [  0   0   0   0   0   0   0   0   0   0   0   0  40 253 227  21   0\n",
            "     0   0   0   0   0   0   0   0   0   0   0]\n",
            "  [  0   0   0   0   0   0   0   0   0   0   0   0  40 253 254  39   0\n",
            "     0   0   0   0   0   0   0   0   0   0   0]\n",
            "  [  0   0   0   0   0   0   0   0   0   0   0   0  31 240 255  39   0\n",
            "     0   0   0   0   0   0   0   0   0   0   0]\n",
            "  [  0   0   0   0   0   0   0   0   0   0   0   0   0 150 254 122   0\n",
            "     0   0   0   0   0   0   0   0   0   0   0]\n",
            "  [  0   0   0   0   0   0   0   0   0   0   0   0   0  98 254 165   0\n",
            "     0   0   0   0   0   0   0   0   0   0   0]\n",
            "  [  0   0   0   0   0   0   0   0   0   0   0   0   0  83 254 233   0\n",
            "     0   0   0   0   0   0   0   0   0   0   0]\n",
            "  [  0   0   0   0   0   0   0   0   0   0   0   0   0   0 254 233   0\n",
            "     0   0   0   0   0   0   0   0   0   0   0]\n",
            "  [  0   0   0   0   0   0   0   0   0   0   0   0   0   0 255 254  78\n",
            "     0   0   0   0   0   0   0   0   0   0   0]\n",
            "  [  0   0   0   0   0   0   0   0   0   0   0   0   0   0 254 253  78\n",
            "     0   0   0   0   0   0   0   0   0   0   0]\n",
            "  [  0   0   0   0   0   0   0   0   0   0   0   0   0   0 254 253  78\n",
            "     0   0   0   0   0   0   0   0   0   0   0]\n",
            "  [  0   0   0   0   0   0   0   0   0   0   0   0   0   0 238 253  78\n",
            "     0   0   0   0   0   0   0   0   0   0   0]\n",
            "  [  0   0   0   0   0   0   0   0   0   0   0   0   0   0  81 237  18\n",
            "     0   0   0   0   0   0   0   0   0   0   0]\n",
            "  [  0   0   0   0   0   0   0   0   0   0   0   0   0   0   0   0   0\n",
            "     0   0   0   0   0   0   0   0   0   0   0]\n",
            "  [  0   0   0   0   0   0   0   0   0   0   0   0   0   0   0   0   0\n",
            "     0   0   0   0   0   0   0   0   0   0   0]\n",
            "  [  0   0   0   0   0   0   0   0   0   0   0   0   0   0   0   0   0\n",
            "     0   0   0   0   0   0   0   0   0   0   0]\n",
            "  [  0   0   0   0   0   0   0   0   0   0   0   0   0   0   0   0   0\n",
            "     0   0   0   0   0   0   0   0   0   0   0]]]\n"
          ]
        },
        {
          "output_type": "display_data",
          "data": {
            "text/plain": [
              "<Figure size 640x480 with 1 Axes>"
            ],
            "image/png": "[encoded data removed]"
          },
          "metadata": {}
        },
        {
          "output_type": "display_data",
          "data": {
            "text/plain": [
              "<Figure size 640x480 with 1 Axes>"
            ],
            "image/png": "[encoded data removed]"
          },
          "metadata": {}
        },
        {
          "output_type": "display_data",
          "data": {
            "text/plain": [
              "<Figure size 640x480 with 1 Axes>"
            ],
            "image/png": "[encoded data removed]"
          },
          "metadata": {}
        }
      ]
    }
  ]
}